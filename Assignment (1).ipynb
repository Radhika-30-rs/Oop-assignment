{
  "nbformat": 4,
  "nbformat_minor": 0,
  "metadata": {
    "colab": {
      "provenance": []
    },
    "kernelspec": {
      "name": "python3",
      "display_name": "Python 3"
    },
    "language_info": {
      "name": "python"
    }
  },
  "cells": [
    {
      "cell_type": "markdown",
      "source": [],
      "metadata": {
        "id": "-9lwuLiGRpnC"
      }
    },
    {
      "cell_type": "markdown",
      "source": [
        "ques-1**What is Object-Oriented Programming (OOP)**\n",
        "\n",
        "Answer-Object -Oriented programming is  a programming based on the concept of \"objects\",which encapsulates data and behaviour together."
      ],
      "metadata": {
        "id": "UMFgotl1Rqvq"
      }
    },
    {
      "cell_type": "markdown",
      "source": [
        "ques 2-**What is a class in OOP**\n",
        "\n",
        "Answer- Class is a blue print /template  for creating objects(eg : a car class)\n"
      ],
      "metadata": {
        "id": "Lg8bHVs3SMb3"
      }
    },
    {
      "cell_type": "markdown",
      "source": [
        "ques 3-**What is an object in OOP?**\n",
        "\n",
        "Answer-An instance of a class with unique attributes and behaviors(eg:\"MyCar\" is an object of \"Car\")\n",
        "\n"
      ],
      "metadata": {
        "id": "tSMZpENsSbsa"
      }
    },
    {
      "cell_type": "markdown",
      "source": [
        "ques4-**What is the difference between abstraction and encapsulation?**\n",
        "\n",
        "Answer - **Abstraction-** hides complex implementation details and exposing only necessary functionalities.\n",
        "\n",
        "**Encapsulation-** Restricts direct access to object data and allowing controlled modifications via method."
      ],
      "metadata": {
        "id": "WpjWEG0lTIFp"
      }
    },
    {
      "cell_type": "markdown",
      "source": [
        "ques 5**What are dunder methods in Python**\n",
        "\n",
        "Answer-Dunder methods are also known as magic methods or special  methods are prdefined methods in python that begin and end with double undersscores (eg: _init_,_str_)."
      ],
      "metadata": {
        "id": "1Ia_CT1xUBIQ"
      }
    },
    {
      "cell_type": "markdown",
      "source": [
        "ques 6-**Explain the concept of inheritance in OOP**\n",
        "\n",
        "Answer-In Object-Oriented Programming (OOP), inheritance is a mechanism where a new class (the \"child\" or \"subclass\") automatically inherits properties and behaviors (methods) from an existing class (the \"parent\" or \"superclass\"), promoting code reusability and creating hierarchical relationships between classes.\n"
      ],
      "metadata": {
        "id": "DoMwF3Tse7-2"
      }
    },
    {
      "cell_type": "markdown",
      "source": [
        "ques7-**What is polymorphism in OOP?**\n",
        "\n",
        "Answer- polymorphism allows us to define methods in the child class with the same name as defined in their parent class. This ability to use a common interface for different data types or classes makes our code more flexible and easier to maintain.There are 2 main types - Compile-time polymorphism(static binding) andRun-time polymorphism (Dyanamic Binding)"
      ],
      "metadata": {
        "id": "ihmspGaurmRa"
      }
    },
    {
      "cell_type": "markdown",
      "source": [
        "ques 8-**How is encapsulation achieved in Python**\n",
        "\n",
        "Answer- Encapsulation in python is achieved by restricting  access to the internal state and behavior of an object and exposing only what's necessary through methods.This helps protect object data and enforces a clean interface."
      ],
      "metadata": {
        "id": "5Lf573vGJOkM"
      }
    },
    {
      "cell_type": "markdown",
      "source": [
        "ques9-**What is a constructor in Python**\n",
        "\n",
        "Answer-A constructor in python is a special method used to initialize an object when it is created.The constructor method is always named __init__."
      ],
      "metadata": {
        "id": "bSdU8222JzXn"
      }
    },
    {
      "cell_type": "markdown",
      "source": [
        "ques 10-**What are class and static methods in Python?**\n",
        "\n",
        "Answer - Class and static methods are methods that are bound to a classrather than its object but they behave slightly different.\n",
        "\n",
        "**Class method**-Defined using the@classmethod decorator.\n",
        "\n",
        "Takes class as the first parameter (refers to the class itself).\n",
        "\n",
        "can access and modify class state.\n",
        "\n",
        "**Static method-**Defined using the @staticmethod decorator.\n",
        "\n",
        "Does not take self or cls as the first argument.\n",
        "\n",
        "can't access or modify the class or instance state.\n",
        "\n",
        "Acts like a regular function inside the class,often used for utility tasks.\n",
        "\n"
      ],
      "metadata": {
        "id": "wd3vgbQ4KP2g"
      }
    },
    {
      "cell_type": "markdown",
      "source": [
        "ques11-**What is method overloading in Python**\n",
        "\n",
        "Answer-Method overloading is the ability  to define multiple methods with the same name but different parameters.Pyhton does not support traditional overloadinglike Java or c++."
      ],
      "metadata": {
        "id": "O_Y4GvKNLjk3"
      }
    },
    {
      "cell_type": "markdown",
      "source": [
        "ques12-**What is method overriding in OOP?**\n",
        "\n",
        "Answer - Method overriding occurs whn a subclass provides a specific implementation of a method that is already defined in its superclass.The method name and parameters must be same ."
      ],
      "metadata": {
        "id": "19HVxbIOMJae"
      }
    },
    {
      "cell_type": "markdown",
      "source": [
        "ques 13-**What is a property decorator in Python?**\n",
        "\n",
        "Answer- The property decorator in python is used to define getter methods that can be accessed like attributes.It helps implements encapsulationby letting you control how an attribute is accessed or modified,while still using attribute-style access."
      ],
      "metadata": {
        "id": "LAGX7VoAMq1y"
      }
    },
    {
      "cell_type": "markdown",
      "source": [
        "ques14-**Why is polymorphism important in OOP?**\n",
        "\n",
        "Answer-by one of the four core principles,alongside encapsulation,inheritence and abstraction.\n",
        "\n",
        "\n",
        "1**Flexibility-**Polymorphism enables you to easily add new classes or modify existing ones without affecting the core logic of your program, making your code more adaptable to changing requirements.\n",
        "\n",
        "2 **Code Resusability-**Polymorphism allows you to define a single interface (method name) that multiple classes can implement, reducing redundancy and promoting code reuse.\n",
        "\n",
        "3**Simplified code-**Avoides long if-else or switch statements by relying on method overrides and shared interfaces.\n",
        "\n",
        "4**Extensibilty-**Polymorphism makes it easier to extend your code by adding new features or functionality without rewriting existing code.\n"
      ],
      "metadata": {
        "id": "Pcnzcl9oM2bL"
      }
    },
    {
      "cell_type": "markdown",
      "source": [
        "ques 15-**What is an abstract class in Python?**\n",
        "\n",
        "Answer-An absrtract class in python is a class that cannot be instantiated on its own and is meant to be a base class for other classes. It can define **abstract methods** ,which are methods that nust be implemnted by any subclass."
      ],
      "metadata": {
        "id": "-EH_6mVKO_fr"
      }
    },
    {
      "cell_type": "markdown",
      "source": [
        "ques 16-**What are the advantages of OOP?**\n",
        "\n",
        "Answer- OOP offers several powerful advantages that make it a popular paradigm,especially for large and complex systems.\n",
        "\n",
        "**Improved Code Organization & Maintainability**:\n",
        "OOP promotes a structured approach to code organization by grouping data and related functions into classes and objects, making it easier to understand, modify, and maintain complex software systems.\n",
        "\n",
        "**Code Reusability**:\n",
        "OOP allows for the creation of reusable code components (classes and objects) that can be used across different parts of an application or even in different projects, saving time and effort.\n",
        "\n",
        "**Modularity and Scalability**:\n",
        "OOP's modular design, where different parts of the system are encapsulated within well-defined interfaces, makes it easier to scale and maintain software as it grows.\n",
        "\n",
        "**Flexibility and Adaptability**:\n",
        "OOP supports multiple programming styles, including procedural, functional, and event-driven programming, making it easier to adapt programs to changing requirements and new technologies."
      ],
      "metadata": {
        "id": "8mOCthypPub4"
      }
    },
    {
      "cell_type": "markdown",
      "source": [
        "ques17-**What is the difference between a class variable and an instance variable?**\n",
        "\n",
        "Answer-**Instance Variable-**\n",
        "\n",
        "*  Defined **inside the constructor(__init__)** using self.\n",
        "*  **Unique to each object(instance)**\n",
        "*  Changing it affects **only that specific instance**.\n",
        "\n",
        "**Class variable-**\n",
        "\n",
        "\n",
        "*  Defined **outside the constructor,** directly inside the class.\n",
        "*  **Shared across all instances** of the class.\n",
        "*  Changing it affects all instances (inless overridden in an instance)."
      ],
      "metadata": {
        "id": "W9oXK2hkQmbv"
      }
    },
    {
      "cell_type": "markdown",
      "source": [
        "ques 18-**What is multiple inheritance in Python?**\n",
        "\n",
        "Answer- Multiple ineritence in python means that a class can inherit from more than one parent class. This allows the child class to combine behaviors and attributes from multiple sources."
      ],
      "metadata": {
        "id": "JHC9mSKISGeo"
      }
    },
    {
      "cell_type": "markdown",
      "source": [
        "ques 19-**Explain the purpose of ‘’__str__’ and ‘__repr__’ ‘ methods in Python?**\n",
        "\n",
        "Answer-in python,the__str___and __repr__ methods are special methods used to define how an object is represented as a string .\n",
        "\n",
        "__str__(informal/readable string representation)-\n",
        "**purpose**-To return a user-friendly string version of the object.\n",
        "\n",
        "__repr__(Formal/Debug string Representation)-\n",
        "**Purpose**- To return a developer-friendly string that ideally can be used to  recreate the object."
      ],
      "metadata": {
        "id": "hMTf9ooeShyA"
      }
    },
    {
      "cell_type": "markdown",
      "source": [
        "ques 20-**What is the significance of the ‘super()’ function in Python?**\n",
        "\n",
        "Answer-The super() function in pythonn is used to call a method from a parent or superclass. It plays a key role in inheritence ,especially  with multiple inheritence or when overriding methods."
      ],
      "metadata": {
        "id": "brmmnp31v2Pt"
      }
    },
    {
      "cell_type": "markdown",
      "source": [
        "ques 21-**What is the significance of the __del__ method in Python?**\n",
        "\n",
        "Answer-The __del__ mehod in python is a destructor -it's called when an object is about to be destroyed (i.e,when it's garbage collected)\n",
        "\n",
        "**Purpose of __del__**-To define cleanup actions before an object is deleted.\n"
      ],
      "metadata": {
        "id": "Cvzn9sKlwext"
      }
    },
    {
      "cell_type": "markdown",
      "source": [
        "ques 22-**What is the difference between @staticmethod and @classmethod in Python?**\n",
        "\n",
        "Answer-Both static and class method  are ways to define methods that aren't regular instance methods .But they serve different purposes  and behave differently.\n",
        "\n",
        "**@static method**- static methods are functions defined within a class but are not bound to any specific instance or class. They are used for utility functions that don't depend on the state of the class or its objects, and are accessed directly through the class name.\n",
        "\n",
        "**@class meethod-**The @classmethod decorator is used to define a method that is bound to the class, not to an instance of the class, and it receives the class (cls) as its first argument, allowing access and modification of class-level data."
      ],
      "metadata": {
        "id": "cLUANlrIxyi6"
      }
    },
    {
      "cell_type": "markdown",
      "source": [
        "ques 23-**How does polymorphism work in Python with inheritance?**\n",
        "\n",
        "Answer- Polymorphism, meaning \"many forms,\" allows objects of different classes to be treated as objects of a common type, enabling flexible and reusable code through techniques like inheritance and method overriding.\n",
        "\n",
        "Inheritance: Child classes inherit methods from parent classes.\n",
        "\n",
        "Method Overriding: Child classes can redefine (override) methods inherited from parent classes to provide specific implementations for different object types.\n",
        "\n",
        "Duck Typing: Python's \"duck typing\" philosophy emphasizes an object's behavior over its type, meaning if an object has the necessary methods, it can be used polymorphically, regardless of its class.\n"
      ],
      "metadata": {
        "id": "1XZIgiWvzNtC"
      }
    },
    {
      "cell_type": "markdown",
      "source": [
        "ques 24-**What is method chaining in Python OOP?**\n",
        "\n",
        "Answer-Method chaining is a  technique where you can call multiple methods in a single line,one after the other. This is a possible when each method returns self (the current object) , allowing the next method to be called on it."
      ],
      "metadata": {
        "id": "z6G-kWjJz-Rp"
      }
    },
    {
      "cell_type": "markdown",
      "source": [
        "ques 25-**What is the purpose of the __call__ method in Python?**\n",
        "\n",
        "Answer-The purpose of the __call__ method in Python is to make an instance of a class callable, meaning you can call that instance like a function (e.g., instance())."
      ],
      "metadata": {
        "id": "9wiNjPHw04JT"
      }
    },
    {
      "cell_type": "markdown",
      "source": [
        "**Practical questions**"
      ],
      "metadata": {
        "id": "ifnmb9Kt1Riz"
      }
    },
    {
      "cell_type": "markdown",
      "source": [
        "ques 1-**Create a parent class Animal with a method speak() that prints a generic message. Create a child class Dog\n",
        "that overrides the speak() method to print \"Bark!\".**"
      ],
      "metadata": {
        "id": "Wql5izKS1aRo"
      }
    },
    {
      "cell_type": "code",
      "source": [
        "class Animal:\n",
        "  def speak(self):\n",
        "    print(\"The animal makes a sound\")\n",
        "\n",
        "class Dog(Animal):\n",
        "  def speak(self):\n",
        "    print(\"Bark!\")\n",
        "\n",
        "a=Animal()\n",
        "a.speak()\n",
        "\n",
        "a=Dog()\n",
        "a.speak()\n"
      ],
      "metadata": {
        "colab": {
          "base_uri": "https://localhost:8080/"
        },
        "id": "Px2eTrkb1oVH",
        "outputId": "3c0daacc-eb1a-4caa-927b-826bab17b1a3"
      },
      "execution_count": null,
      "outputs": [
        {
          "output_type": "stream",
          "name": "stdout",
          "text": [
            "The animal makes a sound\n",
            "Bark!\n"
          ]
        }
      ]
    },
    {
      "cell_type": "markdown",
      "source": [
        "ques 2-**Write a program to create an abstract class Shape with a method area(). Derive classes Circle and Rectangle\n",
        "from it and implement the area() method in both.**"
      ],
      "metadata": {
        "id": "UVHrJNYe3kw9"
      }
    },
    {
      "cell_type": "code",
      "source": [
        "\n",
        "class Circle(shape):\n",
        "  def __init__(self,radius):\n",
        "    self.radius = radius\n",
        "  def area(self):\n",
        "    return math.pi*self.radius** 2\n",
        "\n",
        "class Rectangle(shape):\n",
        "  def __init__(self,width,height):\n",
        "    self.width =width\n",
        "    self.height =height\n",
        "\n",
        "  def area(self):\n",
        "    return self.width * self.height\n",
        "\n",
        "c= Circle(5)\n",
        "r= Rectangle(4,6)\n",
        "print(\"Circle area:\",c.area())\n",
        "print(\"Rectangle area:\",r.area())"
      ],
      "metadata": {
        "colab": {
          "base_uri": "https://localhost:8080/",
          "height": 211
        },
        "id": "hiyjVVS33o9s",
        "outputId": "8c5f9da4-31dc-4ddc-9a83-ba422f5d960c"
      },
      "execution_count": 1,
      "outputs": [
        {
          "output_type": "error",
          "ename": "NameError",
          "evalue": "name 'shape' is not defined",
          "traceback": [
            "\u001b[0;31m---------------------------------------------------------------------------\u001b[0m",
            "\u001b[0;31mNameError\u001b[0m                                 Traceback (most recent call last)",
            "\u001b[0;32m<ipython-input-1-c665b63cd74a>\u001b[0m in \u001b[0;36m<cell line: 0>\u001b[0;34m()\u001b[0m\n\u001b[0;32m----> 1\u001b[0;31m \u001b[0;32mclass\u001b[0m \u001b[0mCircle\u001b[0m\u001b[0;34m(\u001b[0m\u001b[0mshape\u001b[0m\u001b[0;34m)\u001b[0m\u001b[0;34m:\u001b[0m\u001b[0;34m\u001b[0m\u001b[0;34m\u001b[0m\u001b[0m\n\u001b[0m\u001b[1;32m      2\u001b[0m   \u001b[0;32mdef\u001b[0m \u001b[0m__init__\u001b[0m\u001b[0;34m(\u001b[0m\u001b[0mself\u001b[0m\u001b[0;34m,\u001b[0m\u001b[0mradius\u001b[0m\u001b[0;34m)\u001b[0m\u001b[0;34m:\u001b[0m\u001b[0;34m\u001b[0m\u001b[0;34m\u001b[0m\u001b[0m\n\u001b[1;32m      3\u001b[0m     \u001b[0mself\u001b[0m\u001b[0;34m.\u001b[0m\u001b[0mradius\u001b[0m \u001b[0;34m=\u001b[0m \u001b[0mradius\u001b[0m\u001b[0;34m\u001b[0m\u001b[0;34m\u001b[0m\u001b[0m\n\u001b[1;32m      4\u001b[0m   \u001b[0;32mdef\u001b[0m \u001b[0marea\u001b[0m\u001b[0;34m(\u001b[0m\u001b[0mself\u001b[0m\u001b[0;34m)\u001b[0m\u001b[0;34m:\u001b[0m\u001b[0;34m\u001b[0m\u001b[0;34m\u001b[0m\u001b[0m\n\u001b[1;32m      5\u001b[0m     \u001b[0;32mreturn\u001b[0m \u001b[0mmath\u001b[0m\u001b[0;34m.\u001b[0m\u001b[0mpi\u001b[0m\u001b[0;34m*\u001b[0m\u001b[0mself\u001b[0m\u001b[0;34m.\u001b[0m\u001b[0mradius\u001b[0m\u001b[0;34m**\u001b[0m \u001b[0;36m2\u001b[0m\u001b[0;34m\u001b[0m\u001b[0;34m\u001b[0m\u001b[0m\n",
            "\u001b[0;31mNameError\u001b[0m: name 'shape' is not defined"
          ]
        }
      ]
    },
    {
      "cell_type": "markdown",
      "source": [
        "ques 3-**Implement a multi-level inheritance scenario where a class Vehicle has an attribute type. Derive a class Car\n",
        "and further derive a class ElectricCar that adds a battery attribute.**"
      ],
      "metadata": {
        "id": "32zOL19CDbdS"
      }
    },
    {
      "cell_type": "code",
      "source": [
        "class Tickle:\n",
        "  def __init__(self,type):\n",
        "    self.type = type\n",
        "\n",
        "  def show_type(self):\n",
        "    print(f\"Type: {self.type}\")\n",
        "\n",
        "class Car(Tickle):\n",
        "  def __init__(self,type,brand):\n",
        "    super().__init__(type)\n",
        "    self.brand = brand\n",
        "\n",
        "  def show_brand(self):\n",
        "    print(f\"Brand: {self.brand}\")\n",
        "\n",
        "class ElectricCar(Car):\n",
        "  def __init__(Self, type, brand, battery):\n",
        "    super().__init__(type,brand)\n",
        "    Self.battery = battery\n",
        "\n",
        "  def show_battery(self):\n",
        "    print(f\"Battery Capacity: {self.battery} kwh\")\n",
        "\n",
        "ecar = ElectricCar(\"vehicle\", \"Tesla\" ,100)\n",
        "\n",
        "ecar.show_type()\n",
        "ecar.show_brand()\n",
        "ecar.show_battery()\n",
        "\n"
      ],
      "metadata": {
        "colab": {
          "base_uri": "https://localhost:8080/"
        },
        "id": "YgQc18ZODQR6",
        "outputId": "857d3fbe-c55b-4acb-9a45-c326bd64dbf8"
      },
      "execution_count": null,
      "outputs": [
        {
          "output_type": "stream",
          "name": "stdout",
          "text": [
            "Type: vehicle\n",
            "Brand: Tesla\n",
            "Battery Capacity: 100 kwh\n"
          ]
        }
      ]
    },
    {
      "cell_type": "markdown",
      "source": [
        "ques4.**Demonstrate polymorphism by creating a base class Bird with a method fly(). Create two derived classes\n",
        "Sparrow and Penguin that override the fly() method.**"
      ],
      "metadata": {
        "id": "Hbj0j0m6KfYP"
      }
    },
    {
      "cell_type": "code",
      "source": [
        "class Bird:\n",
        "  def fly(self):\n",
        "    print(\"Bird is flying.\")\n",
        "\n",
        "class Sparrow(Bird):\n",
        "  def fly(Self):\n",
        "    print(\"Sparrow flies high in the sky..\")\n",
        "\n",
        "class Penguin(Bird):\n",
        "  def fly(Self):\n",
        "    print(\"Penguins cannot fly, they swim.\")\n",
        "\n",
        "def bird_flight(bird):\n",
        "  bird.fly()\n",
        "\n",
        "bird1 = Sparrow()\n",
        "bird2 = Penguin()\n",
        "\n",
        "bird_flight(bird1)\n",
        "bird_flight(bird2)"
      ],
      "metadata": {
        "colab": {
          "base_uri": "https://localhost:8080/"
        },
        "id": "CYGo9W5WKuWB",
        "outputId": "20d7e6a0-4ad9-405b-a8b0-b32b2c4b0b93"
      },
      "execution_count": null,
      "outputs": [
        {
          "output_type": "stream",
          "name": "stdout",
          "text": [
            "Sparrow flies high in the sky..\n",
            "Penguins cannot fly, they swim.\n"
          ]
        }
      ]
    },
    {
      "cell_type": "markdown",
      "source": [
        "ques 5-**Write a program to demonstrate encapsulation by creating a class BankAccount with private attributes\n",
        "balance and methods to deposit, withdraw, and check balance.**"
      ],
      "metadata": {
        "id": "jtnwHmBUM_oT"
      }
    },
    {
      "cell_type": "code",
      "source": [
        "class BankAccount:\n",
        "  def __init__(self,initial_balance=0):\n",
        "    self._balance = initial_balance\n",
        "\n",
        "  def deposit(self,amount):\n",
        "    if amount>0:\n",
        "      self._balance +=amount\n",
        "\n",
        "      print(f\"Deposited: ${amount}\")\n",
        "\n",
        "    else:\n",
        "      print(\"Invalid deposit amount.\")\n",
        "\n",
        "  def withdraw(self,amount):\n",
        "    if 0 < amount <=self._balance:\n",
        "      self._balance -= amount\n",
        "      print(\"Withdrawn:${amount}\")\n",
        "\n",
        "    else:\n",
        "      print(\"Invalid withdrawl amount or insufficient funds.\")\n",
        "\n",
        "  def check_balance(self):\n",
        "    print(f\"Current Balance: ${self._balance}\")\n",
        "\n",
        "account = BankAccount(100)\n",
        "account.deposit(50)\n",
        "account.withdraw(30)\n",
        "account.check_balance()"
      ],
      "metadata": {
        "colab": {
          "base_uri": "https://localhost:8080/"
        },
        "id": "oDLKP0f5P8fx",
        "outputId": "23d4cc5e-11dd-495c-f7a8-dcbdfa159366"
      },
      "execution_count": null,
      "outputs": [
        {
          "output_type": "stream",
          "name": "stdout",
          "text": [
            "Deposited: $50\n",
            "Withdrawn:${amount}\n",
            "Current Balance: $120\n"
          ]
        }
      ]
    },
    {
      "cell_type": "markdown",
      "source": [
        "ques6-**Demonstrate runtime polymorphism using a method play() in a base class Instrument. Derive classes Guitar\n",
        "and Piano that implement their own version of play().**"
      ],
      "metadata": {
        "id": "VBcDnzTiS6ji"
      }
    },
    {
      "cell_type": "code",
      "source": [
        "class Instrument:\n",
        "  def play(self):\n",
        "      print(\"Instrument is playing.\")\n",
        "\n",
        "class Guitar (Instrument):\n",
        "     def play(self):\n",
        "      print(\"Guitar is playing chords.\")\n",
        "class Piano (Instrument):\n",
        "  def play(self):\n",
        "    print(\"Piano is playing melody.\")\n",
        "\n",
        "    def main():\n",
        "       instrument = Guitar()\n",
        "       instrument.play()\n",
        "       instrument = Piano()\n",
        "       instrument.play()\n",
        "    main()"
      ],
      "metadata": {
        "id": "6T0Jv9I6TEIH"
      },
      "execution_count": 5,
      "outputs": []
    },
    {
      "cell_type": "markdown",
      "source": [
        "ques7-**Create a class MathOperations with a class method add_numbers() to add two numbers and a static\n",
        "method subtract_numbers() to subtract two numbers.**"
      ],
      "metadata": {
        "id": "rJab0TSTgHHO"
      }
    },
    {
      "cell_type": "code",
      "source": [
        "class MathOperations:\n",
        "  @classmethod\n",
        "  def AddNumbers(cls,a,b):\n",
        "    return a+b\n",
        "  @staticmethod\n",
        "  def SubtractNumbers(a,b):\n",
        "    return a-b\n",
        "sum_result = MathOperations.AddNumbers(10,5)\n",
        "diff_result = MathOperations.SubtractNumbers(10,5)\n",
        "print(\"Sum:\",sum_result)\n",
        "print(\"Difference:\",diff_result)\n",
        "\n"
      ],
      "metadata": {
        "colab": {
          "base_uri": "https://localhost:8080/"
        },
        "id": "GJAPdJ8ehEGq",
        "outputId": "c608b645-2f03-49f8-c691-ec6490b3f565"
      },
      "execution_count": null,
      "outputs": [
        {
          "output_type": "stream",
          "name": "stdout",
          "text": [
            "Sum: 15\n",
            "Difference: 5\n"
          ]
        }
      ]
    },
    {
      "cell_type": "markdown",
      "source": [
        "ques8-**Implement a class Person with a class method to count the total number of persons created.**"
      ],
      "metadata": {
        "id": "xBzD1CLYlTae"
      }
    },
    {
      "cell_type": "code",
      "source": [
        "class Persons:\n",
        "  count =0\n",
        "  def __init__ (self,name):\n",
        "    self.name=name\n",
        "    Persons.count += 1\n",
        "\n",
        "@classmethod\n",
        "def total_persons(cls):\n",
        "   return cls.count\n",
        "\n",
        "p1= Persons(\"Alice\")\n",
        "p2=Persons(\"Bob\")\n",
        "p3=Persons(\"Cherry\")\n",
        "print(\"Total persons created:\" , Persons.total_Persons)"
      ],
      "metadata": {
        "colab": {
          "base_uri": "https://localhost:8080/",
          "height": 176
        },
        "id": "zT42i1ZElYkX",
        "outputId": "ad9c5aa7-a4b8-4b10-9a74-40e94767e171"
      },
      "execution_count": 28,
      "outputs": [
        {
          "output_type": "error",
          "ename": "AttributeError",
          "evalue": "type object 'Persons' has no attribute 'total_Persons'",
          "traceback": [
            "\u001b[0;31m---------------------------------------------------------------------------\u001b[0m",
            "\u001b[0;31mAttributeError\u001b[0m                            Traceback (most recent call last)",
            "\u001b[0;32m<ipython-input-28-164b27883fee>\u001b[0m in \u001b[0;36m<cell line: 0>\u001b[0;34m()\u001b[0m\n\u001b[1;32m     12\u001b[0m \u001b[0mp2\u001b[0m\u001b[0;34m=\u001b[0m\u001b[0mPersons\u001b[0m\u001b[0;34m(\u001b[0m\u001b[0;34m\"Bob\"\u001b[0m\u001b[0;34m)\u001b[0m\u001b[0;34m\u001b[0m\u001b[0;34m\u001b[0m\u001b[0m\n\u001b[1;32m     13\u001b[0m \u001b[0mp3\u001b[0m\u001b[0;34m=\u001b[0m\u001b[0mPersons\u001b[0m\u001b[0;34m(\u001b[0m\u001b[0;34m\"Cherry\"\u001b[0m\u001b[0;34m)\u001b[0m\u001b[0;34m\u001b[0m\u001b[0;34m\u001b[0m\u001b[0m\n\u001b[0;32m---> 14\u001b[0;31m \u001b[0mprint\u001b[0m\u001b[0;34m(\u001b[0m\u001b[0;34m\"Total persons created:\"\u001b[0m \u001b[0;34m,\u001b[0m \u001b[0mPersons\u001b[0m\u001b[0;34m.\u001b[0m\u001b[0mtotal_Persons\u001b[0m\u001b[0;34m)\u001b[0m\u001b[0;34m\u001b[0m\u001b[0;34m\u001b[0m\u001b[0m\n\u001b[0m",
            "\u001b[0;31mAttributeError\u001b[0m: type object 'Persons' has no attribute 'total_Persons'"
          ]
        }
      ]
    },
    {
      "cell_type": "markdown",
      "source": [
        "ques9-**Write a class Fraction with attributes numerator and denominator. Override the str method to display the\n",
        "fraction as \"numerator/denominator\".**"
      ],
      "metadata": {
        "id": "5MJ1Q9zFocaP"
      }
    },
    {
      "cell_type": "code",
      "source": [
        "class Fraction:\n",
        "  def __init__(self,numerator,denominator):\n",
        "    self.Numerator =numerator\n",
        "    self.Denominator =denominator\n",
        "\n",
        "  def __str__(self):\n",
        "     return f\"{self.Numerator}/{self.Denominator}\"\n",
        "f= Fraction(3,4)\n",
        "print(f)"
      ],
      "metadata": {
        "colab": {
          "base_uri": "https://localhost:8080/"
        },
        "id": "I74hlH5bohOn",
        "outputId": "ce8306ae-2367-4c78-9e82-77a662b84a7f"
      },
      "execution_count": null,
      "outputs": [
        {
          "output_type": "stream",
          "name": "stdout",
          "text": [
            "3/4\n"
          ]
        }
      ]
    },
    {
      "cell_type": "markdown",
      "source": [
        "ques 10-**Demonstrate operator overloading by creating a class Vector and overriding the add method to add two\n",
        "vectors.**"
      ],
      "metadata": {
        "id": "MS6I40IPrBl0"
      }
    },
    {
      "cell_type": "code",
      "source": [
        "class Vector:\n",
        "  def __init__ (self, x, y):\n",
        "    self.x=x\n",
        "    self.y=y\n",
        "\n",
        "  def __add__(self,other):\n",
        "    if isinstance(other,Vector):\n",
        "      return Vector(self.x + other.x,self.y + other.y)\n",
        "      return NotImplemented\n",
        "  def __str__(self):\n",
        "    return f\" Vector({self.x},{self.y})\"\n",
        "\n",
        "v1 = Vector(2,3)\n",
        "v2 = Vector(4,5)\n",
        "v3 = v1+v2\n",
        "print(v3)"
      ],
      "metadata": {
        "colab": {
          "base_uri": "https://localhost:8080/"
        },
        "id": "2oSZTT-n6Apo",
        "outputId": "d3c0114f-ff2c-4fd7-b9cb-48d26ea0b7f0"
      },
      "execution_count": null,
      "outputs": [
        {
          "output_type": "stream",
          "name": "stdout",
          "text": [
            " Vector(6,8)\n"
          ]
        }
      ]
    },
    {
      "cell_type": "markdown",
      "source": [
        "ques11-**Create a class Person with attributes name and age. Add a method greet() that prints \"Hello, my name is\n",
        "{name} and I am {age} years old.\"**"
      ],
      "metadata": {
        "id": "RIWFUvgZ8o6-"
      }
    },
    {
      "cell_type": "code",
      "source": [
        "class Person:\n",
        "  def __init__(self, name, age):\n",
        "    self.name = name\n",
        "    self.age = age\n",
        "\n",
        "  def greet(self):\n",
        "    print(f\"Hello, my name is {self.name} and I am {self.age } years old.\")\n",
        "\n",
        "p1 = Person(\"Alice\",8)\n",
        "p1.greet()"
      ],
      "metadata": {
        "colab": {
          "base_uri": "https://localhost:8080/"
        },
        "id": "9WibY9fC8uKT",
        "outputId": "1673a27f-b86f-41df-cf3a-f955801db1d5"
      },
      "execution_count": null,
      "outputs": [
        {
          "output_type": "stream",
          "name": "stdout",
          "text": [
            "Hello, my name is Alice and I am 8 years old.\n"
          ]
        }
      ]
    },
    {
      "cell_type": "markdown",
      "source": [
        "ques 12-**Implement a class Student with attributes name and grades. Create a method average_grade() to compute\n",
        "the average of the grades.**"
      ],
      "metadata": {
        "id": "ifXyNyFz9hww"
      }
    },
    {
      "cell_type": "code",
      "source": [
        "class Student:\n",
        "  def __init__(self,name,grades):\n",
        "    self.name = name\n",
        "    self.grades = grades\n",
        "\n",
        "  def average_grade(self):\n",
        "    if not self.grades:\n",
        "      return 0\n",
        "    return sum(self.grades) /len(self.grades)\n",
        "s1 = Student(\"John\",[65,34,78,97])\n",
        "print(f\"{s1.name}'s average grade is : {s1.average_grade():2f}\")"
      ],
      "metadata": {
        "colab": {
          "base_uri": "https://localhost:8080/"
        },
        "id": "rSev33wb9pH_",
        "outputId": "12c1dbe7-a704-48e1-b388-b31244f5ebd0"
      },
      "execution_count": null,
      "outputs": [
        {
          "output_type": "stream",
          "name": "stdout",
          "text": [
            "John's average grade is : 68.500000\n"
          ]
        }
      ]
    },
    {
      "cell_type": "markdown",
      "source": [
        "ques 13-**Create a class Rectangle with methods set_dimensions() to set the dimensions and area() to calculate the\n",
        "area.**"
      ],
      "metadata": {
        "id": "7MYZ7J6j_NZB"
      }
    },
    {
      "cell_type": "code",
      "source": [
        "class Rectangle:\n",
        "\n",
        "  def setDimensions(self,length,width):\n",
        "    self.length =length\n",
        "    self.width=width\n",
        "  def area(self):\n",
        "    return (self.length * self.width)\n",
        "rect = Rectangle()\n",
        "rect.setDimensions(3,2)\n",
        "print(f\"The area of the rectangle is:{rect.area()}\")"
      ],
      "metadata": {
        "colab": {
          "base_uri": "https://localhost:8080/"
        },
        "id": "MXdrY1ZBC1ia",
        "outputId": "93d7463d-7027-44d1-f4fd-4d5e868831c2"
      },
      "execution_count": null,
      "outputs": [
        {
          "output_type": "stream",
          "name": "stdout",
          "text": [
            "The area of the rectangle is:6\n"
          ]
        }
      ]
    },
    {
      "cell_type": "markdown",
      "source": [
        "ques 14-**Create a class Employee with a method calculate_salary() that computes the salary based on hours worked\n",
        "and hourly rate. Create a derived class Manager that adds a bonus to the salary.**"
      ],
      "metadata": {
        "id": "ogKQYHeyE5KM"
      }
    },
    {
      "cell_type": "code",
      "source": [
        "class Employee:\n",
        "  def __init__(self , name ,hours_worked,hourly_rate):\n",
        "    self.name = name\n",
        "    self.hours_worked =hours_worked\n",
        "    self.hourly_rate = hourly_rate"
      ],
      "metadata": {
        "id": "nOC7ZLpIFCOX"
      },
      "execution_count": null,
      "outputs": []
    },
    {
      "cell_type": "markdown",
      "source": [
        "ques 15-**Create a class Product with attributes name, price, and quantity. Implement a method total_price() that\n",
        "calculates the total price of the product.**"
      ],
      "metadata": {
        "id": "NHgA1kBlFyb6"
      }
    },
    {
      "cell_type": "code",
      "source": [
        "class Product:\n",
        "  def __init__(self,name,price,quantity):\n",
        "    self.name=name\n",
        "    self.price =price\n",
        "    self.quantity = quantity\n",
        "  def totalPrice(self):\n",
        "    return self.price *self.quantity\n",
        "\n",
        "product = Product(\"Laptop\", 1200.00,2)\n",
        "print(f\"Total price for {product.name}s:${product.totalPrice():.2f}\")"
      ],
      "metadata": {
        "colab": {
          "base_uri": "https://localhost:8080/"
        },
        "id": "v9hg04gRE_zO",
        "outputId": "989e76a1-f27c-4a23-ef4f-a1c2dd09eb38"
      },
      "execution_count": null,
      "outputs": [
        {
          "output_type": "stream",
          "name": "stdout",
          "text": [
            "Total price for Laptops:$2400.00\n"
          ]
        }
      ]
    },
    {
      "cell_type": "markdown",
      "source": [
        "ques 16-**Create a class Animal with an abstract method sound(). Create two derived classes Cow and Sheep that\n",
        "implement the sound() method.**"
      ],
      "metadata": {
        "id": "5eATlcY_9IyI"
      }
    },
    {
      "cell_type": "code",
      "source": [
        "from abc import ABC\n",
        "class Animal(ABC):\n",
        "\n",
        "\n",
        "   @abstractclassmethod\n",
        "   def Sound(self):\n",
        "     pass\n",
        "class Cow(Animal):\n",
        "  def Sound(self):\n",
        "    return \"Moo\"\n",
        "class Sheep(Animal):\n",
        "  def Sound(self):\n",
        "    return \"Baa\"\n",
        "animals =[Cow(),Sheep()]\n",
        "for animal in animals:\n",
        "  print(f\" {animal.___class__.__name__} sound:{animal.SoundCreator()}\")\n",
        "\n"
      ],
      "metadata": {
        "colab": {
          "base_uri": "https://localhost:8080/",
          "height": 332
        },
        "id": "hLdinEpt9QQf",
        "outputId": "98da50c7-3b3e-42d9-b819-d8a5d23ffdc1"
      },
      "execution_count": 35,
      "outputs": [
        {
          "output_type": "error",
          "ename": "NameError",
          "evalue": "name 'abstractclassmethod' is not defined",
          "traceback": [
            "\u001b[0;31m---------------------------------------------------------------------------\u001b[0m",
            "\u001b[0;31mNameError\u001b[0m                                 Traceback (most recent call last)",
            "\u001b[0;32m<ipython-input-35-8a4bd8e97330>\u001b[0m in \u001b[0;36m<cell line: 0>\u001b[0;34m()\u001b[0m\n\u001b[1;32m      1\u001b[0m \u001b[0;32mfrom\u001b[0m \u001b[0mabc\u001b[0m \u001b[0;32mimport\u001b[0m \u001b[0mABC\u001b[0m\u001b[0;34m\u001b[0m\u001b[0;34m\u001b[0m\u001b[0m\n\u001b[0;32m----> 2\u001b[0;31m \u001b[0;32mclass\u001b[0m \u001b[0mAnimal\u001b[0m\u001b[0;34m(\u001b[0m\u001b[0mABC\u001b[0m\u001b[0;34m)\u001b[0m\u001b[0;34m:\u001b[0m\u001b[0;34m\u001b[0m\u001b[0;34m\u001b[0m\u001b[0m\n\u001b[0m\u001b[1;32m      3\u001b[0m \u001b[0;34m\u001b[0m\u001b[0m\n\u001b[1;32m      4\u001b[0m \u001b[0;34m\u001b[0m\u001b[0m\n\u001b[1;32m      5\u001b[0m    \u001b[0;34m@\u001b[0m\u001b[0mabstractclassmethod\u001b[0m\u001b[0;34m\u001b[0m\u001b[0;34m\u001b[0m\u001b[0m\n",
            "\u001b[0;32m<ipython-input-35-8a4bd8e97330>\u001b[0m in \u001b[0;36mAnimal\u001b[0;34m()\u001b[0m\n\u001b[1;32m      3\u001b[0m \u001b[0;34m\u001b[0m\u001b[0m\n\u001b[1;32m      4\u001b[0m \u001b[0;34m\u001b[0m\u001b[0m\n\u001b[0;32m----> 5\u001b[0;31m    \u001b[0;34m@\u001b[0m\u001b[0mabstractclassmethod\u001b[0m\u001b[0;34m\u001b[0m\u001b[0;34m\u001b[0m\u001b[0m\n\u001b[0m\u001b[1;32m      6\u001b[0m    \u001b[0;32mdef\u001b[0m \u001b[0mSound\u001b[0m\u001b[0;34m(\u001b[0m\u001b[0mself\u001b[0m\u001b[0;34m)\u001b[0m\u001b[0;34m:\u001b[0m\u001b[0;34m\u001b[0m\u001b[0;34m\u001b[0m\u001b[0m\n\u001b[1;32m      7\u001b[0m      \u001b[0;32mpass\u001b[0m\u001b[0;34m\u001b[0m\u001b[0;34m\u001b[0m\u001b[0m\n",
            "\u001b[0;31mNameError\u001b[0m: name 'abstractclassmethod' is not defined"
          ]
        }
      ]
    },
    {
      "cell_type": "markdown",
      "source": [
        "ques17-**Create a class Book with attributes title, author, and year_published. Add a method get_book_info() that\n",
        "returns a formatted string with the book's details.**"
      ],
      "metadata": {
        "id": "ECANib8sFSXA"
      }
    },
    {
      "cell_type": "code",
      "source": [
        "class Book:\n",
        "  def __init__(self,title, author,year_published):\n",
        "    self.title =title\n",
        "    self.author =author\n",
        "    self.year_published =year_published\n",
        "\n",
        "  def getBookInfo(self):\n",
        "    return f\"{self.title} by {self.author},published in {self.year_published}\"\n",
        "\n",
        "book1 = Book(\"1984\",\"George Orwell\",1949)\n",
        "print(book1.getBookInfo())"
      ],
      "metadata": {
        "colab": {
          "base_uri": "https://localhost:8080/"
        },
        "id": "B491xd9YFdhL",
        "outputId": "d060d3fe-c059-46c8-9822-1c8b3faeb646"
      },
      "execution_count": null,
      "outputs": [
        {
          "output_type": "stream",
          "name": "stdout",
          "text": [
            "1984 by George Orwell,published in 1949\n"
          ]
        }
      ]
    },
    {
      "cell_type": "markdown",
      "source": [
        "ques 18-**Create a class House with attributes address and price. Create a derived class Mansion that adds an\n",
        "attribute number_of_rooms.**"
      ],
      "metadata": {
        "id": "4IdpLsT5HzVt"
      }
    },
    {
      "cell_type": "code",
      "source": [
        "class House:\n",
        "  def __init__(self,address,price):\n",
        "    self.address = address\n",
        "    self.price = price\n",
        "\n",
        "class Mansion(House):\n",
        "  def __init__(self , address,price,number_of_rooms):\n",
        "    super().__init__(address,price)\n",
        "    self.number_of_rooms =number_of_rooms\n",
        "\n",
        "mansion1 = Mansion(\"123 Luxury Lane\",2500000,10)\n",
        "print(f\"Address:{mansion1.address}\")\n",
        "print(f\"Price:${mansion1.price}\")\n",
        "print(f\"Number of Rooms:{mansion1.number_of_rooms}\")"
      ],
      "metadata": {
        "colab": {
          "base_uri": "https://localhost:8080/"
        },
        "id": "2iXbkYGDH42U",
        "outputId": "cfc93dc2-3678-4dd4-fcd4-c7f7eb8085c4"
      },
      "execution_count": 24,
      "outputs": [
        {
          "output_type": "stream",
          "name": "stdout",
          "text": [
            "Address:123 Luxury Lane\n",
            "Price:$2500000\n",
            "Number of Rooms:10\n"
          ]
        }
      ]
    }
  ]
}